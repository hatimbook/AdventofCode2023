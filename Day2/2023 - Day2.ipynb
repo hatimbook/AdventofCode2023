{
 "cells": [
  {
   "cell_type": "code",
   "execution_count": 1,
   "id": "d2f6493b",
   "metadata": {},
   "outputs": [],
   "source": [
    "with open('input.txt','r') as f:\n",
    "    txt = f.read().strip()\n",
    "    txt = [x for x in txt.split('\\n')]"
   ]
  },
  {
   "cell_type": "code",
   "execution_count": 74,
   "id": "0ea59aa1",
   "metadata": {},
   "outputs": [
    {
     "name": "stdout",
     "output_type": "stream",
     "text": [
      "Part1 = 2486\n",
      "Part2= 87984\n"
     ]
    }
   ],
   "source": [
    "maxr = 12\n",
    "maxg = 13\n",
    "maxb = 14\n",
    "\n",
    "p = 0\n",
    "powers = []\n",
    "for game in txt:\n",
    "    n = list(map(int, re.findall('Game (\\d+)', game)))\n",
    "    r = list(map(int, re.findall('(\\d+) red', game)))\n",
    "    g = list(map(int, re.findall('(\\d+) green', game)))\n",
    "    b = list(map(int, re.findall('(\\d+) blue', game)))\n",
    "    \n",
    "    if max(r) <= maxr and max(g) <= maxg and max(b) <= maxb:\n",
    "        p = p + n[0]\n",
    "    powers.append(max(r)*max(g)*max(b)) \n",
    "print('Part1 =',p)\n",
    "print('Part2=',sum(powers))"
   ]
  },
  {
   "cell_type": "code",
   "execution_count": null,
   "id": "1ed5b6d7",
   "metadata": {},
   "outputs": [],
   "source": []
  }
 ],
 "metadata": {
  "kernelspec": {
   "display_name": "Python 3 (ipykernel)",
   "language": "python",
   "name": "python3"
  },
  "language_info": {
   "codemirror_mode": {
    "name": "ipython",
    "version": 3
   },
   "file_extension": ".py",
   "mimetype": "text/x-python",
   "name": "python",
   "nbconvert_exporter": "python",
   "pygments_lexer": "ipython3",
   "version": "3.10.9"
  }
 },
 "nbformat": 4,
 "nbformat_minor": 5
}
