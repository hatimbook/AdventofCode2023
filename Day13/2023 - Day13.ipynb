{
 "cells": [
  {
   "cell_type": "code",
   "execution_count": 123,
   "id": "3869f5b4",
   "metadata": {},
   "outputs": [
    {
     "name": "stdout",
     "output_type": "stream",
     "text": [
      "Part1 =  33735\n",
      "Part2 =  38063\n"
     ]
    }
   ],
   "source": [
    "import re\n",
    "import math\n",
    "import numpy as np\n",
    "\n",
    "with open('input.txt','r') as f:\n",
    "    txt = f.read().strip().split('\\n\\n')\n",
    "mirrorsum = 0\n",
    "mirrorsum2 = 0\n",
    "for line in txt:\n",
    "    x = line.split('\\n')\n",
    "    y = [[x[r][c]  for c in range(len(x[0]))] for r in range(len(x))]\n",
    "    y = np.array([np.array(xi) for xi in y])\n",
    "    \n",
    "    for col in range(1, y.shape[1]):\n",
    "        if col < y.shape[1]/2:\n",
    "            a,b = np.hsplit(y, [col])\n",
    "            c,d = np.hsplit(b, [col])\n",
    "            c = np.flip(c,1)          \n",
    "            if (a==c).all():\n",
    "                mirrorsum += col\n",
    "            if (a==c).sum() + 1 == a.size:\n",
    "                mirrorsum2 += col\n",
    "        else:\n",
    "            a,b = np.hsplit(y, [col])\n",
    "            a = np.flip(a,1)\n",
    "            c,d = np.hsplit(a, [y.shape[1] - col])          \n",
    "            if (b==c).all():\n",
    "                mirrorsum += col\n",
    "            if (b==c).sum() + 1 == b.size:\n",
    "                mirrorsum2 += col\n",
    "    \n",
    "    for row in range(1, y.shape[0]):\n",
    "        if row < y.shape[0]/2:\n",
    "            a,b = np.vsplit(y, [row])\n",
    "            c,d = np.vsplit(b, [row])\n",
    "            c = np.flip(c, 0)\n",
    "            if(a==c).all():\n",
    "                mirrorsum += (row*100)\n",
    "            if(a==c).sum()+1 == a.size:\n",
    "                mirrorsum2 += (row*100)\n",
    "        else:\n",
    "            a,b = np.vsplit(y, [row])\n",
    "            a = np.flip(a, 0)\n",
    "            c,d = np.split(a, [y.shape[0] - row])\n",
    "            if (b==c).all():\n",
    "                mirrorsum += (row*100)\n",
    "            if (b==c).sum() + 1 == b.size:\n",
    "                mirrorsum2 += (row*100)\n",
    "            \n",
    "print('Part1 = ',mirrorsum)\n",
    "print('Part2 = ',mirrorsum2)"
   ]
  },
  {
   "cell_type": "code",
   "execution_count": null,
   "id": "71445e2a",
   "metadata": {},
   "outputs": [],
   "source": []
  }
 ],
 "metadata": {
  "kernelspec": {
   "display_name": "Python 3 (ipykernel)",
   "language": "python",
   "name": "python3"
  },
  "language_info": {
   "codemirror_mode": {
    "name": "ipython",
    "version": 3
   },
   "file_extension": ".py",
   "mimetype": "text/x-python",
   "name": "python",
   "nbconvert_exporter": "python",
   "pygments_lexer": "ipython3",
   "version": "3.10.9"
  }
 },
 "nbformat": 4,
 "nbformat_minor": 5
}
