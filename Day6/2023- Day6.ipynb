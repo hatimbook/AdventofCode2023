{
 "cells": [
  {
   "cell_type": "code",
   "execution_count": 39,
   "id": "e0f5d7a4",
   "metadata": {},
   "outputs": [
    {
     "name": "stdout",
     "output_type": "stream",
     "text": [
      "Part 1 = 5133600\n",
      "Part 2 = 40651271\n"
     ]
    }
   ],
   "source": [
    "import re\n",
    "import math\n",
    "\n",
    "with open('input.txt','r') as f:\n",
    "    txt = f.read().strip()\n",
    "    txt = [x for x in txt.split('\\n')]\n",
    "time = list(map(int, re.findall('Time:\\s+(.+)', txt[0])[0].split()))\n",
    "dist = list(map(int, re.findall('Distance:\\s+(.+)', txt[1])[0].split()))\n",
    "time.append(int(\"\".join(map(str, time))))\n",
    "dist.append(int(\"\".join(map(str, dist))))\n",
    "\n",
    "counts = []\n",
    "\n",
    "for race in range(len(time)):\n",
    "    count = 0\n",
    "    for speed in range(int(time[race]/2), 0, -1):\n",
    "        d = speed * (time[race] - speed)\n",
    "        if d >= dist[race]:\n",
    "            count += 1\n",
    "        else:\n",
    "            break\n",
    "    if(time[race]%2 == 0):\n",
    "        count = 2*count - 1\n",
    "    else:\n",
    "        count = count*2\n",
    "    counts.append(count)\n",
    "print('Part 1 =', math.prod(counts[0:4]))  \n",
    "print('Part 2 =', counts[4])"
   ]
  }
 ],
 "metadata": {
  "kernelspec": {
   "display_name": "Python 3 (ipykernel)",
   "language": "python",
   "name": "python3"
  },
  "language_info": {
   "codemirror_mode": {
    "name": "ipython",
    "version": 3
   },
   "file_extension": ".py",
   "mimetype": "text/x-python",
   "name": "python",
   "nbconvert_exporter": "python",
   "pygments_lexer": "ipython3",
   "version": "3.10.9"
  }
 },
 "nbformat": 4,
 "nbformat_minor": 5
}
