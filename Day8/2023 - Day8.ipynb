{
 "cells": [
  {
   "cell_type": "code",
   "execution_count": 1,
   "id": "7d375861",
   "metadata": {},
   "outputs": [
    {
     "name": "stdout",
     "output_type": "stream",
     "text": [
      "Part1 =  22411\n",
      "Part2 =  11188774513823\n"
     ]
    }
   ],
   "source": [
    "import re\n",
    "import math\n",
    "\n",
    "with open('input.txt','r') as f:\n",
    "    txt = f.read().strip()\n",
    "directions, nodes = txt.split('\\n\\n')\n",
    "nodes = nodes.split('\\n')\n",
    "nodedict = {}\n",
    "for n in nodes:\n",
    "    x = re.findall('([A-Z][A-Z][A-Z])', n)\n",
    "    nodedict[x[0]] = (x[1], x[2])\n",
    "\n",
    "directions = directions.replace('L', '0')\n",
    "directions = directions.replace('R', '1')\n",
    "directions\n",
    "\n",
    "current_nodes = [key for key in nodedict.keys() if re.match(r'..A', key)]\n",
    "steplist = []\n",
    "for node in current_nodes:\n",
    "    current_node = node\n",
    "    steps = 0\n",
    "    while not re.match(r'..Z', current_node):\n",
    "        d = int(directions[steps%len(directions)])\n",
    "        current_node = nodedict[current_node][d]\n",
    "        steps = steps + 1\n",
    "\n",
    "    steplist.append(steps)\n",
    "print('Part1 = ',steplist[5])\n",
    "print('Part2 = ', math.lcm(*steplist))"
   ]
  },
  {
   "cell_type": "code",
   "execution_count": null,
   "id": "ad5c850c",
   "metadata": {},
   "outputs": [],
   "source": []
  }
 ],
 "metadata": {
  "kernelspec": {
   "display_name": "Python 3 (ipykernel)",
   "language": "python",
   "name": "python3"
  },
  "language_info": {
   "codemirror_mode": {
    "name": "ipython",
    "version": 3
   },
   "file_extension": ".py",
   "mimetype": "text/x-python",
   "name": "python",
   "nbconvert_exporter": "python",
   "pygments_lexer": "ipython3",
   "version": "3.10.9"
  }
 },
 "nbformat": 4,
 "nbformat_minor": 5
}
