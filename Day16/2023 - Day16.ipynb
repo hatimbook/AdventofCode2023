{
 "cells": [
  {
   "cell_type": "code",
   "execution_count": 49,
   "id": "280a7ba3",
   "metadata": {},
   "outputs": [
    {
     "name": "stdout",
     "output_type": "stream",
     "text": [
      "Part1 =  6906\n",
      "Part2 =  7330\n"
     ]
    }
   ],
   "source": [
    "import re\n",
    "import math\n",
    "import numpy as np\n",
    "\n",
    "\n",
    "dmap = {'R': 0, 'D': 1, 'L': 2, 'U': 3 }\n",
    "\n",
    "with open('input.txt','r') as f:\n",
    "    txt = f.read().strip().split('\\n')\n",
    "maxr,maxc = [len(txt) - 1, len(txt[0]) - 1]\n",
    "    \n",
    "x =      [(r,    0,    0) for r in range(maxr+1)]\n",
    "x.extend([(0,    c,    1) for c in range(maxc+1)])\n",
    "x.extend([(r,    maxc, 2) for r in range(maxr+1)])\n",
    "x.extend([(maxr, c,    3) for c in range(maxc+1)])\n",
    "\n",
    "loclist = []\n",
    "\n",
    "for start in x:    \n",
    "    clist = [start]\n",
    "    locs = {(start[0],start[1]):1}\n",
    "    emap = {start: 1}\n",
    "    while clist != []:\n",
    "        s = clist.pop()\n",
    "        temp = computedir(s)\n",
    "        for x in temp:\n",
    "            if 0 <= x[0] <= maxr and 0 <= x[1] <= maxc:\n",
    "                if x in emap:\n",
    "                    emap[x] += 1\n",
    "                else:\n",
    "                    emap[x] = 1\n",
    "                    clist.append(x)\n",
    "                l = (x[0], x[1])\n",
    "                if l not in locs:\n",
    "                    locs[l] = 1\n",
    "    loclist.append(len(locs))\n",
    "print('Part1 = ', loclist[0])\n",
    "print('Part2 = ', max(loclist))"
   ]
  },
  {
   "cell_type": "code",
   "execution_count": 48,
   "id": "5dd7323b",
   "metadata": {},
   "outputs": [],
   "source": [
    "def computedir(s):\n",
    "    r,c,d = s\n",
    "    ch = txt[r][c]\n",
    "    if(ch == '.'):\n",
    "        if(d == 0):\n",
    "            return [(r, c+1, 0)]\n",
    "        elif(d == 1):\n",
    "            return [(r+1, c, 1)]\n",
    "        elif(d == 2):\n",
    "            return [(r, c-1, 2)]\n",
    "        elif (d == 3):\n",
    "            return [(r-1, c, 3)]\n",
    "    elif(ch == '\\\\'):\n",
    "        if(d == 0):\n",
    "            return [(r+1, c, 1)]\n",
    "        elif (d == 1):\n",
    "            return [(r, c+1, 0)]\n",
    "        elif (d == 2):\n",
    "            return [(r-1, c, 3)]\n",
    "        elif (d == 3):\n",
    "            return [(r, c-1, 2)]\n",
    "    elif(ch == '/'):\n",
    "        if(d == 0):\n",
    "            return [(r-1, c, 3)]\n",
    "        elif(d == 1):\n",
    "            return [(r, c-1, 2)]\n",
    "        elif(d == 2):\n",
    "            return [(r+1, c, 1)]\n",
    "        elif(d == 3):\n",
    "            return [(r, c+1, 0)]\n",
    "    elif(ch == '-'):\n",
    "        if(d == 0):\n",
    "            return [(r, c+1, 0)]\n",
    "        if(d == 1):\n",
    "            return [(r, c-1, 2), (r, c+1, 0)]\n",
    "        if(d == 2):\n",
    "            return [(r, c-1, 2)]\n",
    "        if(d == 3):\n",
    "            return [(r, c-1, 2), (r, c+1, 0)]\n",
    "    elif(ch == '|'):\n",
    "        if(d == 0):\n",
    "            return [(r-1, c, 3),(r+1, c, 1)]\n",
    "        elif(d == 1):\n",
    "            return [(r+1, c, d)]\n",
    "        elif(d == 2):\n",
    "            return [(r-1, c, 3),(r+1, c, 1)]\n",
    "        elif(d == 3):\n",
    "            return [(r-1, c, d)]"
   ]
  },
  {
   "cell_type": "code",
   "execution_count": null,
   "id": "25489c83",
   "metadata": {},
   "outputs": [],
   "source": []
  }
 ],
 "metadata": {
  "kernelspec": {
   "display_name": "Python 3 (ipykernel)",
   "language": "python",
   "name": "python3"
  },
  "language_info": {
   "codemirror_mode": {
    "name": "ipython",
    "version": 3
   },
   "file_extension": ".py",
   "mimetype": "text/x-python",
   "name": "python",
   "nbconvert_exporter": "python",
   "pygments_lexer": "ipython3",
   "version": "3.10.9"
  }
 },
 "nbformat": 4,
 "nbformat_minor": 5
}
