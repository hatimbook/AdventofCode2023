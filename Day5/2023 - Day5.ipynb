{
 "cells": [
  {
   "cell_type": "code",
   "execution_count": 33,
   "id": "7056db6a",
   "metadata": {},
   "outputs": [
    {
     "name": "stdout",
     "output_type": "stream",
     "text": [
      "Mapped Location =  3625759648 665347387 6\n",
      "Mapped Location =  3625759648 665347388 6\n",
      "Mapped Location =  3625759648 665347389 6\n",
      "Mapped Location =  3625759648 665347390 6\n",
      "Mapped Location =  3625759648 665347391 6\n",
      "Mapped Location =  3625759648 665347392 6\n",
      "Mapped Location =  3625759648 665347393 6\n",
      "Mapped Location =  7873084 665347394 6\n",
      "Mapped Location =  7873084 665347395 6\n",
      "Mapped Location =  7873084 665347396 6\n",
      "7873084 665347394 6\n"
     ]
    }
   ],
   "source": [
    "import re\n",
    "import math\n",
    "\n",
    "with open('input.txt','r') as f:\n",
    "    txt = f.read().strip()\n",
    "    txt = [x for x in txt.split('\\n\\n')]\n",
    "\n",
    "seeds = list(map(int, re.findall(r'seeds:\\s+(.+)', txt[0])[0].split()))\n",
    "minloc = math.inf\n",
    "minseed = math.inf\n",
    "minrange = math.inf\n",
    "maps = txt[1:]\n",
    "\n",
    "#for s in range(0, len(seeds), 2):\n",
    "s = 6\n",
    "#for seed in range(seeds[s], seeds[s]+seeds[s+1], int(seeds[s+1]/1000)):\n",
    "#for seed in range(665329737, 665379096, 100):  \n",
    "#for seed in range(665347337, 665347437, 10): \n",
    "for seed in range(665347387, 665347397, 1):     \n",
    "    mapped_value = seed\n",
    "    #print(seed)\n",
    "    for m in maps: \n",
    "        x = list(map(int, (m.split(':')[1].split())))\n",
    "        for i in range(0, len(x), 3):\n",
    "            new_value = translate(mapped_value, x[i+1], x[i], x[i+2])\n",
    "            if new_value != mapped_value:\n",
    "                mapped_value = new_value\n",
    "                break\n",
    "    if mapped_value < minloc:\n",
    "        minloc = mapped_value\n",
    "        minseed = seed\n",
    "        minrange = s\n",
    "    print(\"Mapped Location = \", minloc, seed, s)\n",
    "\n",
    "print(minloc, minseed, minrange)"
   ]
  },
  {
   "cell_type": "code",
   "execution_count": 2,
   "id": "428ba76d",
   "metadata": {},
   "outputs": [],
   "source": [
    "def translate(val, src_start, dest_start, width):\n",
    "    if src_start <= val < src_start + width:\n",
    "        return (dest_start + (val - src_start))\n",
    "    else:\n",
    "        return val"
   ]
  }
 ],
 "metadata": {
  "kernelspec": {
   "display_name": "Python 3 (ipykernel)",
   "language": "python",
   "name": "python3"
  },
  "language_info": {
   "codemirror_mode": {
    "name": "ipython",
    "version": 3
   },
   "file_extension": ".py",
   "mimetype": "text/x-python",
   "name": "python",
   "nbconvert_exporter": "python",
   "pygments_lexer": "ipython3",
   "version": "3.10.9"
  }
 },
 "nbformat": 4,
 "nbformat_minor": 5
}
