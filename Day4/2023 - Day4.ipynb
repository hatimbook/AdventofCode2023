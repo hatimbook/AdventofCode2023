{
 "cells": [
  {
   "cell_type": "code",
   "execution_count": 90,
   "id": "70450c6c",
   "metadata": {},
   "outputs": [
    {
     "name": "stdout",
     "output_type": "stream",
     "text": [
      "Part1 =  26218\n",
      "Part2 = 9997537\n"
     ]
    }
   ],
   "source": [
    "with open('input.txt','r') as f:\n",
    "    txt = f.read().strip()\n",
    "    txt = [x for x in txt.split('\\n')]\n",
    "total_points = 0\n",
    "num_c = [1] * len(txt)\n",
    "for card in txt:\n",
    "    c = list(map(int, re.findall('Card\\s+(\\d+)', card)))[0]\n",
    "    w = set(map(int, re.findall(':\\s+(.+)\\s+\\|', card)[0].split()))\n",
    "    n = set(map(int, re.findall('\\|\\s+(.+)', card)[0].split()))\n",
    "    w_n = w.intersection(n)\n",
    "    if len(w_n) > 0:\n",
    "        total_points += 2 ** (len(w_n)-1)\n",
    "    for i in range(len(w_n)):\n",
    "        num_c[c+i] += num_c[c-1]\n",
    "    #print(num_c)   \n",
    "print('Part1 = ',total_points)\n",
    "print('Part2 =', sum(num_c))\n"
   ]
  },
  {
   "cell_type": "code",
   "execution_count": null,
   "id": "ec907fc8",
   "metadata": {},
   "outputs": [],
   "source": []
  }
 ],
 "metadata": {
  "kernelspec": {
   "display_name": "Python 3 (ipykernel)",
   "language": "python",
   "name": "python3"
  },
  "language_info": {
   "codemirror_mode": {
    "name": "ipython",
    "version": 3
   },
   "file_extension": ".py",
   "mimetype": "text/x-python",
   "name": "python",
   "nbconvert_exporter": "python",
   "pygments_lexer": "ipython3",
   "version": "3.10.9"
  }
 },
 "nbformat": 4,
 "nbformat_minor": 5
}
