{
 "cells": [
  {
   "cell_type": "code",
   "execution_count": 111,
   "id": "5073d2ac",
   "metadata": {},
   "outputs": [
    {
     "name": "stdout",
     "output_type": "stream",
     "text": [
      "Part1 =  108918\n",
      "Part2 =  100310\n"
     ]
    }
   ],
   "source": [
    "import re\n",
    "import math\n",
    "import numpy as np\n",
    "\n",
    "with open('input.txt','r') as f:\n",
    "    txt = f.read().strip().split('\\n')\n",
    "txt = [[txt[c][r] for r in range(len(txt))] for c in range(len(txt[0]))]\n",
    "data = np.array([np.array(xi) for xi in txt])\n",
    "\n",
    "print('Part1 = ', tilt())\n",
    "\n",
    "\n",
    "loads = []\n",
    "for i in range(1000):\n",
    "    loads.append(cycle())\n",
    "\n",
    "# by inspection, found the repeating load cycle of lenght 52 and start offset of 137\n",
    "# (1000000000-137) % 52 = 31\n",
    "print('Part2 = ', loads[137 + 31])"
   ]
  },
  {
   "cell_type": "code",
   "execution_count": 108,
   "id": "9e8fcfbd",
   "metadata": {},
   "outputs": [],
   "source": [
    "def tilt():\n",
    "    global data\n",
    "    for c in range(len(data)):\n",
    "        swapindex = 0\n",
    "        for r in range(len(data[0])) :\n",
    "            x = data[r][c]\n",
    "            if x == 'O':\n",
    "                if swapindex != r:\n",
    "                    data[r][c] = '.'\n",
    "                    data[swapindex][c] = 'O'\n",
    "                swapindex += 1\n",
    "            if x == '#':\n",
    "                swapindex = r+1\n",
    "    return sum([len(data) - r for r in range(len(data[0])) for c in range(len(data)) if data[r][c] == 'O'])"
   ]
  },
  {
   "cell_type": "code",
   "execution_count": 109,
   "id": "997f5132",
   "metadata": {},
   "outputs": [],
   "source": [
    "def cycle():\n",
    "    global data\n",
    "    tilt()\n",
    "    data = np.rot90(data, 3)\n",
    "    tilt()\n",
    "    data = np.rot90(data, 3)\n",
    "    tilt()\n",
    "    data = np.rot90(data, 3)\n",
    "    tilt()\n",
    "    data = np.rot90(data, 3)\n",
    "    \n",
    "    return sum([len(data) - r for r in range(len(data[0])) for c in range(len(data)) if data[r][c] == 'O'])"
   ]
  }
 ],
 "metadata": {
  "kernelspec": {
   "display_name": "Python 3 (ipykernel)",
   "language": "python",
   "name": "python3"
  },
  "language_info": {
   "codemirror_mode": {
    "name": "ipython",
    "version": 3
   },
   "file_extension": ".py",
   "mimetype": "text/x-python",
   "name": "python",
   "nbconvert_exporter": "python",
   "pygments_lexer": "ipython3",
   "version": "3.10.9"
  }
 },
 "nbformat": 4,
 "nbformat_minor": 5
}
