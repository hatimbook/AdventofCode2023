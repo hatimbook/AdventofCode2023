{
 "cells": [
  {
   "cell_type": "code",
   "execution_count": 78,
   "id": "cd0eb533",
   "metadata": {},
   "outputs": [
    {
     "name": "stdout",
     "output_type": "stream",
     "text": [
      "Part1 =  1974232246\n",
      "Part2 =  928\n"
     ]
    }
   ],
   "source": [
    "import re\n",
    "import math\n",
    "import numpy as np\n",
    "\n",
    "with open('input.txt','r') as f:\n",
    "    txt = f.read().strip().split('\\n')\n",
    "\n",
    "endex = []\n",
    "startex = []\n",
    "for data in txt:\n",
    "    endnumlist = []\n",
    "    startnumlist = []  \n",
    "    na = np.array(list(map(int, data.split())), dtype='int')\n",
    "    while not np.all(na == 0):\n",
    "        endnumlist.append(na[-1])\n",
    "        startnumlist.append(na[0])\n",
    "        na = np.diff(na)\n",
    "    endex.append(sum(endnumlist))\n",
    "    \n",
    "    while len(startnumlist) > 1:\n",
    "        x = startnumlist.pop()\n",
    "        y = startnumlist.pop()\n",
    "        startnumlist.append(y-x)\n",
    "    startex.append(startnumlist[0])\n",
    "\n",
    "print('Part1 = ', sum(endex))\n",
    "print('Part2 = ', sum(startex))"
   ]
  },
  {
   "cell_type": "code",
   "execution_count": null,
   "id": "90e70a6b",
   "metadata": {},
   "outputs": [],
   "source": []
  }
 ],
 "metadata": {
  "kernelspec": {
   "display_name": "Python 3 (ipykernel)",
   "language": "python",
   "name": "python3"
  },
  "language_info": {
   "codemirror_mode": {
    "name": "ipython",
    "version": 3
   },
   "file_extension": ".py",
   "mimetype": "text/x-python",
   "name": "python",
   "nbconvert_exporter": "python",
   "pygments_lexer": "ipython3",
   "version": "3.10.9"
  }
 },
 "nbformat": 4,
 "nbformat_minor": 5
}
