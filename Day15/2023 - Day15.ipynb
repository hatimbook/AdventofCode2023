{
 "cells": [
  {
   "cell_type": "code",
   "execution_count": 70,
   "id": "552578f9",
   "metadata": {},
   "outputs": [
    {
     "name": "stdout",
     "output_type": "stream",
     "text": [
      "Part1 =  508498\n"
     ]
    }
   ],
   "source": [
    "import re\n",
    "import math\n",
    "import numpy as np\n",
    "\n",
    "with open('input.txt','r') as f:\n",
    "    txt = f.read().strip().split(',')\n",
    "print('Part1 = ', sum([hashfunc(x) for x in txt]))"
   ]
  },
  {
   "cell_type": "code",
   "execution_count": 71,
   "id": "1603472b",
   "metadata": {},
   "outputs": [
    {
     "name": "stdout",
     "output_type": "stream",
     "text": [
      "Part2 =  279116\n"
     ]
    }
   ],
   "source": [
    "box = {x: [] for x in range(256)}\n",
    "\n",
    "for x in txt:\n",
    "    label = re.findall(r'([a-z]+)', x)[0]\n",
    "    nbox = hashfunc(label)\n",
    "    \n",
    "    operator = re.findall(r'[-=]', x)[0]\n",
    "    if operator == '=':\n",
    "        lens = int(re.findall(r'(\\d)', x)[0])\n",
    "        found = False\n",
    "        for i, l in enumerate(box[nbox]):\n",
    "            if l[0] == label:\n",
    "                box[nbox][i][1] = lens\n",
    "                found = True\n",
    "                break\n",
    "        if(not found):\n",
    "            box[nbox].append([label, lens])\n",
    "    elif operator == '-':\n",
    "        for i, l in enumerate(box[nbox]):\n",
    "            if l[0] == label:\n",
    "                box[nbox].pop(i)\n",
    "                break\n",
    "                       \n",
    "print('Part2 = ', sum([(key+1)*(i+1)*l[1] for key,val in box.items() for i, l in enumerate(val)]))\n"
   ]
  },
  {
   "cell_type": "code",
   "execution_count": 30,
   "id": "4275642e",
   "metadata": {},
   "outputs": [],
   "source": [
    "def hashfunc(s):\n",
    "    vals = np.array([ord(c) for c in s])\n",
    "    s = 0\n",
    "    for v in vals:\n",
    "        s += v\n",
    "        s = (s*17)%256\n",
    "        #s = s%256\n",
    "    return (s%256)\n",
    "        "
   ]
  }
 ],
 "metadata": {
  "kernelspec": {
   "display_name": "Python 3 (ipykernel)",
   "language": "python",
   "name": "python3"
  },
  "language_info": {
   "codemirror_mode": {
    "name": "ipython",
    "version": 3
   },
   "file_extension": ".py",
   "mimetype": "text/x-python",
   "name": "python",
   "nbconvert_exporter": "python",
   "pygments_lexer": "ipython3",
   "version": "3.10.9"
  }
 },
 "nbformat": 4,
 "nbformat_minor": 5
}
