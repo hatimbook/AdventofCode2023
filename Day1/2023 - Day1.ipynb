{
 "cells": [
  {
   "cell_type": "code",
   "execution_count": 1,
   "id": "9f213800",
   "metadata": {},
   "outputs": [],
   "source": [
    "import re"
   ]
  },
  {
   "cell_type": "code",
   "execution_count": 2,
   "id": "af82a1d8",
   "metadata": {},
   "outputs": [],
   "source": [
    "def getnum(x):\n",
    "    numlist = []\n",
    "    for char in x:\n",
    "        if char.isdigit():\n",
    "            numlist.append(char)\n",
    "    return int(numlist[0] + numlist[-1])"
   ]
  },
  {
   "cell_type": "code",
   "execution_count": 3,
   "id": "88767da6",
   "metadata": {},
   "outputs": [],
   "source": [
    "numdict = {\"one\": 'o1e', \"two\": 't2o', \"three\": 't3e', \"four\": 'f4r', \"five\": 'f5e', \n",
    "           \"six\": 's6x', \"seven\": 's7n', \"eight\": 'e8t', \"nine\": 'n9e'}"
   ]
  },
  {
   "cell_type": "code",
   "execution_count": 4,
   "id": "4d53667d",
   "metadata": {},
   "outputs": [
    {
     "name": "stdout",
     "output_type": "stream",
     "text": [
      "Part1 =  54940\n"
     ]
    }
   ],
   "source": [
    "with open('input.txt','r') as f:\n",
    "    txt = f.read().strip()\n",
    "    \n",
    "txt = [getnum(x) for x in txt.split('\\n')]\n",
    "print('Part1 = ', sum(txt))"
   ]
  },
  {
   "cell_type": "code",
   "execution_count": 7,
   "id": "0c8aa139",
   "metadata": {},
   "outputs": [
    {
     "name": "stdout",
     "output_type": "stream",
     "text": [
      "Part2 =  54208\n"
     ]
    }
   ],
   "source": [
    "with open('input.txt','r') as f:\n",
    "    txt = f.read().strip()\n",
    "    txt = [x for x in txt.split('\\n')]\n",
    "\n",
    "s = 0\n",
    "for x in txt:\n",
    "    for key,val in numdict.items():\n",
    "        x = re.sub(key, val, x)\n",
    "    s = s + getnum(x)\n",
    "\n",
    "print('Part2 = ', s)"
   ]
  },
  {
   "cell_type": "markdown",
   "id": "3f0fc8b4",
   "metadata": {},
   "source": [
    "Test Cells"
   ]
  },
  {
   "cell_type": "markdown",
   "id": "faf315d6",
   "metadata": {},
   "source": [
    "29, 83, 13, 24, 42, 14, and 76. Adding these together produces 281."
   ]
  },
  {
   "cell_type": "code",
   "execution_count": 6,
   "id": "85e71b8b",
   "metadata": {},
   "outputs": [
    {
     "name": "stdout",
     "output_type": "stream",
     "text": [
      "29\n",
      "83\n",
      "13\n",
      "24\n",
      "42\n",
      "14\n",
      "76\n"
     ]
    }
   ],
   "source": [
    "test = ['two1nine', 'eightwothree', 'abcone2threexyz', 'xtwone3four', \n",
    "        '4nineeightseven2', 'zoneight234', '7pqrstsixteen']\n",
    "for x in test:\n",
    "    for key,val in numdict.items():\n",
    "        x = re.sub(key, val, x)\n",
    "    print(getnum(x))"
   ]
  },
  {
   "cell_type": "code",
   "execution_count": null,
   "id": "f9780291",
   "metadata": {},
   "outputs": [],
   "source": []
  }
 ],
 "metadata": {
  "kernelspec": {
   "display_name": "Python 3 (ipykernel)",
   "language": "python",
   "name": "python3"
  },
  "language_info": {
   "codemirror_mode": {
    "name": "ipython",
    "version": 3
   },
   "file_extension": ".py",
   "mimetype": "text/x-python",
   "name": "python",
   "nbconvert_exporter": "python",
   "pygments_lexer": "ipython3",
   "version": "3.10.9"
  }
 },
 "nbformat": 4,
 "nbformat_minor": 5
}
